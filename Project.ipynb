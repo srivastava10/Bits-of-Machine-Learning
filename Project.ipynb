{
 "cells": [
  {
   "cell_type": "markdown",
   "id": "97c0fe11",
   "metadata": {},
   "source": [
    " # Face Recognition Based Attendance System"
   ]
  },
  {
   "cell_type": "code",
   "execution_count": 1,
   "id": "6a80902a",
   "metadata": {},
   "outputs": [],
   "source": [
    "import cv2\n",
    "import face_recognition\n",
    "import numpy as np\n",
    "import time\n",
    "import dlib\n",
    "import datetime\n",
    "import csv"
   ]
  },
  {
   "cell_type": "code",
   "execution_count": 2,
   "id": "2017a18b",
   "metadata": {},
   "outputs": [],
   "source": [
    "img = cv2.imread('faces/1.jpeg')\n",
    "img2= cv2.imread('faces/2.jpeg')\n",
    "img = cv2.resize(img,(300,300))\n",
    "img2= cv2.resize(img2,(300,300))\n",
    "img1_encoding = face_recognition.face_encodings(img)[0]\n",
    "img2_encoding = face_recognition.face_encodings(img2)[0]"
   ]
  },
  {
   "cell_type": "code",
   "execution_count": 3,
   "id": "39f11bda",
   "metadata": {},
   "outputs": [],
   "source": [
    "vid = cv2.VideoCapture(0) \n",
    "#IP webcam = \"https://192.168.18.4:8080/video\"\n",
    "\n",
    "p_list=[False,False]\n",
    "i1=0\n",
    "i2=1\n",
    "while True:\n",
    "    b,frame = vid.read()\n",
    "    \n",
    "    if cv2.waitKey(1) &  0xFF==ord('q'):\n",
    "        cv2.destroyAllWindows()\n",
    "        break\n",
    "    \n",
    "    faces = face_recognition.face_landmarks(frame)\n",
    "   \n",
    "    if(faces!=[]):\n",
    "        for face in faces:\n",
    "            x1,y2=faces[0]['left_eyebrow'][-1]\n",
    "            x2,y2=faces[0]['right_eye'][-1]\n",
    "            x3,y3=faces[0]['left_eye'][-1]\n",
    "            x4,y4=faces[0]['chin'][-1]\n",
    "\n",
    "\n",
    "            roi = frame[y2-200:y4+200,x3-100:x2+100]\n",
    "            cv2.rectangle(frame,(x1-75,y2-75),(x1+75,y2+75),(20,20,255),1)\n",
    "            face_encoding = face_recognition.face_encodings(roi)\n",
    "            if(face_encoding!=[]):\n",
    "\n",
    "                result1= face_recognition.compare_faces([face_encoding[-1]], img2_encoding)\n",
    "                result2= face_recognition.compare_faces([face_encoding[-1]], img1_encoding)\n",
    "                if(result1[-1]==True):\n",
    "                    \n",
    "                    p_list[i1]=True\n",
    "                    face_encoding=None\n",
    "                elif(result2[-1]==True):\n",
    "                    \n",
    "                    p_list[i2]=True\n",
    "                    face_encoding=None\n",
    "    \n",
    "\n",
    "            cv2.imshow(\"Video\",frame)\n",
    "    else:\n",
    "        cv2.imshow(\"Video\",frame)"
   ]
  },
  {
   "cell_type": "code",
   "execution_count": 4,
   "id": "3cefaae6",
   "metadata": {},
   "outputs": [
    {
     "data": {
      "text/plain": [
       "[True, True]"
      ]
     },
     "execution_count": 4,
     "metadata": {},
     "output_type": "execute_result"
    }
   ],
   "source": [
    "p_list"
   ]
  },
  {
   "cell_type": "code",
   "execution_count": 7,
   "id": "fb77df67",
   "metadata": {},
   "outputs": [],
   "source": [
    "#First create a folder called 'database' in the working directory\n",
    "with open(f'database/{str(datetime.datetime.now())}.csv','w',newline='') as file:\n",
    "    fieldnames = ['Name','Present']\n",
    "    writer = csv.DictWriter(file,fieldnames=fieldnames)\n",
    "    writer.writeheader()\n",
    "    writer.writerow({'Name':'Gaurav Srivastava','Present':f'{p_list[i1]}'})\n",
    "    writer.writerow({'Name':'Abhishek Srivastava','Present':f'{p_list[i2]}'})\n",
    "    "
   ]
  },
  {
   "cell_type": "markdown",
   "id": "aed42a71",
   "metadata": {},
   "source": [
    "---"
   ]
  }
 ],
 "metadata": {
  "kernelspec": {
   "display_name": "Python 3",
   "language": "python",
   "name": "python3"
  },
  "language_info": {
   "codemirror_mode": {
    "name": "ipython",
    "version": 3
   },
   "file_extension": ".py",
   "mimetype": "text/x-python",
   "name": "python",
   "nbconvert_exporter": "python",
   "pygments_lexer": "ipython3",
   "version": "3.9.2"
  }
 },
 "nbformat": 4,
 "nbformat_minor": 5
}
