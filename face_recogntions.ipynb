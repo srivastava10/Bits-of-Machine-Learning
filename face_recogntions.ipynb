{
 "cells": [
  {
   "cell_type": "code",
   "execution_count": 6,
   "metadata": {},
   "outputs": [],
   "source": [
    "#Importing Modules OpenCV and Face Recognition\n",
    "import cv2\n",
    "import face_recognition"
   ]
  },
  {
   "cell_type": "code",
   "execution_count": 11,
   "metadata": {},
   "outputs": [],
   "source": [
    "#Capturing Video - zero in the parenthesis signify that the video is being captured in real time from the Camera\n",
    "vid = cv2.VideoCapture(0)\n",
    "\n",
    "while True:\n",
    "    #Reading image through each frame of the video\n",
    "    b, frame = vid.read()\n",
    "    \n",
    "    #Getting the face co-ordinates from the face_recognition module\n",
    "    face_locations = face_recognition.face_locations(frame)\n",
    "    \n",
    "    #Checking if any face is detected\n",
    "    if(face_locations != []):\n",
    "        \n",
    "        #Drawing a rectangle on each face\n",
    "        for faces in face_locations:\n",
    "            start_point = faces[0:2] # (x1,y1)\n",
    "            end_point = faces[2:]    # (x2,y2)\n",
    "            cv2.rectangle(frame,start_point,end_point,(0,0,200),2) # Rectangle\n",
    "    \n",
    "    \n",
    "    cv2.imshow(\"Video\",frame) # Showing the video\n",
    "    \n",
    "    #If q is pressed, video is stopped\n",
    "    if cv2.waitKey(1) & 0xFF==ord('q'):\n",
    "        break\n",
    "cv2.destroyAllWindows()"
   ]
  },
  {
   "cell_type": "markdown",
   "metadata": {},
   "source": [
    "---"
   ]
  }
 ],
 "metadata": {
  "kernelspec": {
   "display_name": "Python 3",
   "language": "python",
   "name": "python3"
  },
  "language_info": {
   "codemirror_mode": {
    "name": "ipython",
    "version": 3
   },
   "file_extension": ".py",
   "mimetype": "text/x-python",
   "name": "python",
   "nbconvert_exporter": "python",
   "pygments_lexer": "ipython3",
   "version": "3.6.10"
  }
 },
 "nbformat": 4,
 "nbformat_minor": 4
}
